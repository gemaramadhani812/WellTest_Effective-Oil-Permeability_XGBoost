{
 "cells": [
  {
   "cell_type": "markdown",
   "id": "5d18c682",
   "metadata": {},
   "source": [
    "# XGBoost Algorithm"
   ]
  },
  {
   "cell_type": "code",
   "execution_count": 1,
   "id": "597b267f",
   "metadata": {},
   "outputs": [],
   "source": [
    "import numpy as np\n",
    "import pandas as pd\n",
    "import matplotlib.pyplot as plt\n",
    "import seaborn as sns\n",
    "\n",
    "from sklearn.model_selection import train_test_split\n",
    "from sklearn.pipeline import Pipeline\n",
    "from sklearn.compose import ColumnTransformer\n",
    "\n",
    "from jcopml.pipeline import num_pipe, cat_pipe\n",
    "from jcopml.utils import save_model, load_model\n",
    "from jcopml.plot import plot_missing_value\n",
    "from jcopml.feature_importance import mean_score_decrease\n",
    "from sklearn.metrics import mean_absolute_error\n",
    "from sklearn.metrics import mean_squared_error"
   ]
  },
  {
   "cell_type": "code",
   "execution_count": 2,
   "id": "29760175",
   "metadata": {},
   "outputs": [],
   "source": [
    "# Import Data"
   ]
  },
  {
   "cell_type": "code",
   "execution_count": 3,
   "id": "e1b275dd",
   "metadata": {},
   "outputs": [
    {
     "data": {
      "text/html": [
       "<div>\n",
       "<style scoped>\n",
       "    .dataframe tbody tr th:only-of-type {\n",
       "        vertical-align: middle;\n",
       "    }\n",
       "\n",
       "    .dataframe tbody tr th {\n",
       "        vertical-align: top;\n",
       "    }\n",
       "\n",
       "    .dataframe thead th {\n",
       "        text-align: right;\n",
       "    }\n",
       "</style>\n",
       "<table border=\"1\" class=\"dataframe\">\n",
       "  <thead>\n",
       "    <tr style=\"text-align: right;\">\n",
       "      <th></th>\n",
       "      <th>Generator</th>\n",
       "      <th>Status</th>\n",
       "      <th>Result Status</th>\n",
       "      <th>Proxy Role</th>\n",
       "      <th>Keep SR2</th>\n",
       "      <th>Has SR2</th>\n",
       "      <th>Highlight</th>\n",
       "      <th>RESPRES</th>\n",
       "      <th>OIL_RATE</th>\n",
       "      <th>BO</th>\n",
       "      <th>VISC</th>\n",
       "      <th>THICKNEES</th>\n",
       "      <th>BHP</th>\n",
       "      <th>SLOPE</th>\n",
       "      <th>K</th>\n",
       "      <th>Execution Node</th>\n",
       "      <th>Dataset Path</th>\n",
       "      <th>Optimal</th>\n",
       "      <th>Comment</th>\n",
       "    </tr>\n",
       "    <tr>\n",
       "      <th>ID</th>\n",
       "      <th></th>\n",
       "      <th></th>\n",
       "      <th></th>\n",
       "      <th></th>\n",
       "      <th></th>\n",
       "      <th></th>\n",
       "      <th></th>\n",
       "      <th></th>\n",
       "      <th></th>\n",
       "      <th></th>\n",
       "      <th></th>\n",
       "      <th></th>\n",
       "      <th></th>\n",
       "      <th></th>\n",
       "      <th></th>\n",
       "      <th></th>\n",
       "      <th></th>\n",
       "      <th></th>\n",
       "      <th></th>\n",
       "    </tr>\n",
       "  </thead>\n",
       "  <tbody>\n",
       "    <tr>\n",
       "      <th>0</th>\n",
       "      <td>Reuse</td>\n",
       "      <td>Reused</td>\n",
       "      <td>NormalTermination</td>\n",
       "      <td>Ignore</td>\n",
       "      <td>Yes</td>\n",
       "      <td>True</td>\n",
       "      <td>False</td>\n",
       "      <td>6009</td>\n",
       "      <td>2500</td>\n",
       "      <td>1.210</td>\n",
       "      <td>0.92</td>\n",
       "      <td>23.0</td>\n",
       "      <td>5904.1364</td>\n",
       "      <td>226.552003</td>\n",
       "      <td>86.630000</td>\n",
       "      <td>NaN</td>\n",
       "      <td>BUILDUP.dat</td>\n",
       "      <td>False</td>\n",
       "      <td>NaN</td>\n",
       "    </tr>\n",
       "    <tr>\n",
       "      <th>1</th>\n",
       "      <td>CMG DECE</td>\n",
       "      <td>Complete</td>\n",
       "      <td>NormalTermination</td>\n",
       "      <td>Training</td>\n",
       "      <td>Auto</td>\n",
       "      <td>False</td>\n",
       "      <td>False</td>\n",
       "      <td>5859</td>\n",
       "      <td>2350</td>\n",
       "      <td>1.192</td>\n",
       "      <td>0.81</td>\n",
       "      <td>24.6</td>\n",
       "      <td>5767.5236</td>\n",
       "      <td>196.544312</td>\n",
       "      <td>76.117480</td>\n",
       "      <td>LAPTOP-N92NEVSN</td>\n",
       "      <td>WELLTEST_SIMULATION.cmsd\\WELLTEST_SIMULATION_0...</td>\n",
       "      <td>False</td>\n",
       "      <td>Initialization</td>\n",
       "    </tr>\n",
       "    <tr>\n",
       "      <th>2</th>\n",
       "      <td>CMG DECE</td>\n",
       "      <td>Complete</td>\n",
       "      <td>NormalTermination</td>\n",
       "      <td>Training</td>\n",
       "      <td>Auto</td>\n",
       "      <td>False</td>\n",
       "      <td>False</td>\n",
       "      <td>6109</td>\n",
       "      <td>2450</td>\n",
       "      <td>1.120</td>\n",
       "      <td>0.96</td>\n",
       "      <td>24.2</td>\n",
       "      <td>6011.9133</td>\n",
       "      <td>212.310982</td>\n",
       "      <td>83.160744</td>\n",
       "      <td>LAPTOP-N92NEVSN</td>\n",
       "      <td>WELLTEST_SIMULATION.cmsd\\WELLTEST_SIMULATION_0...</td>\n",
       "      <td>False</td>\n",
       "      <td>Initialization</td>\n",
       "    </tr>\n",
       "    <tr>\n",
       "      <th>3</th>\n",
       "      <td>CMG DECE</td>\n",
       "      <td>Complete</td>\n",
       "      <td>NormalTermination</td>\n",
       "      <td>Training</td>\n",
       "      <td>Auto</td>\n",
       "      <td>False</td>\n",
       "      <td>False</td>\n",
       "      <td>5909</td>\n",
       "      <td>2550</td>\n",
       "      <td>1.138</td>\n",
       "      <td>0.75</td>\n",
       "      <td>23.8</td>\n",
       "      <td>5805.7624</td>\n",
       "      <td>207.352839</td>\n",
       "      <td>71.533193</td>\n",
       "      <td>LAPTOP-N92NEVSN</td>\n",
       "      <td>WELLTEST_SIMULATION.cmsd\\WELLTEST_SIMULATION_0...</td>\n",
       "      <td>False</td>\n",
       "      <td>Initialization</td>\n",
       "    </tr>\n",
       "    <tr>\n",
       "      <th>4</th>\n",
       "      <td>CMG DECE</td>\n",
       "      <td>Complete</td>\n",
       "      <td>NormalTermination</td>\n",
       "      <td>Training</td>\n",
       "      <td>Auto</td>\n",
       "      <td>False</td>\n",
       "      <td>False</td>\n",
       "      <td>6109</td>\n",
       "      <td>2500</td>\n",
       "      <td>1.210</td>\n",
       "      <td>0.93</td>\n",
       "      <td>25.0</td>\n",
       "      <td>6013.2990</td>\n",
       "      <td>213.979503</td>\n",
       "      <td>85.299600</td>\n",
       "      <td>LAPTOP-N92NEVSN</td>\n",
       "      <td>WELLTEST_SIMULATION.cmsd\\WELLTEST_SIMULATION_0...</td>\n",
       "      <td>False</td>\n",
       "      <td>Initialization</td>\n",
       "    </tr>\n",
       "  </tbody>\n",
       "</table>\n",
       "</div>"
      ],
      "text/plain": [
       "   Generator    Status      Result Status Proxy Role Keep SR2  Has SR2  \\\n",
       "ID                                                                       \n",
       "0      Reuse    Reused  NormalTermination     Ignore      Yes     True   \n",
       "1   CMG DECE  Complete  NormalTermination   Training     Auto    False   \n",
       "2   CMG DECE  Complete  NormalTermination   Training     Auto    False   \n",
       "3   CMG DECE  Complete  NormalTermination   Training     Auto    False   \n",
       "4   CMG DECE  Complete  NormalTermination   Training     Auto    False   \n",
       "\n",
       "    Highlight  RESPRES  OIL_RATE     BO  VISC  THICKNEES        BHP  \\\n",
       "ID                                                                    \n",
       "0       False     6009      2500  1.210  0.92       23.0  5904.1364   \n",
       "1       False     5859      2350  1.192  0.81       24.6  5767.5236   \n",
       "2       False     6109      2450  1.120  0.96       24.2  6011.9133   \n",
       "3       False     5909      2550  1.138  0.75       23.8  5805.7624   \n",
       "4       False     6109      2500  1.210  0.93       25.0  6013.2990   \n",
       "\n",
       "         SLOPE          K   Execution Node  \\\n",
       "ID                                           \n",
       "0   226.552003  86.630000              NaN   \n",
       "1   196.544312  76.117480  LAPTOP-N92NEVSN   \n",
       "2   212.310982  83.160744  LAPTOP-N92NEVSN   \n",
       "3   207.352839  71.533193  LAPTOP-N92NEVSN   \n",
       "4   213.979503  85.299600  LAPTOP-N92NEVSN   \n",
       "\n",
       "                                         Dataset Path  Optimal         Comment  \n",
       "ID                                                                              \n",
       "0                                         BUILDUP.dat    False             NaN  \n",
       "1   WELLTEST_SIMULATION.cmsd\\WELLTEST_SIMULATION_0...    False  Initialization  \n",
       "2   WELLTEST_SIMULATION.cmsd\\WELLTEST_SIMULATION_0...    False  Initialization  \n",
       "3   WELLTEST_SIMULATION.cmsd\\WELLTEST_SIMULATION_0...    False  Initialization  \n",
       "4   WELLTEST_SIMULATION.cmsd\\WELLTEST_SIMULATION_0...    False  Initialization  "
      ]
     },
     "execution_count": 3,
     "metadata": {},
     "output_type": "execute_result"
    }
   ],
   "source": [
    "df = pd.read_csv(\"data/500Dataset_Welltest.csv\", index_col=\"ID\")\n",
    "df.head()"
   ]
  },
  {
   "cell_type": "code",
   "execution_count": 4,
   "id": "df0be847",
   "metadata": {},
   "outputs": [
    {
     "data": {
      "image/png": "[encoded data removed]",
      "text/plain": [
       "<Figure size 1080x576 with 1 Axes>"
      ]
     },
     "metadata": {
      "needs_background": "light"
     },
     "output_type": "display_data"
    }
   ],
   "source": [
    "plot_missing_value(df)"
   ]
  },
  {
   "cell_type": "code",
   "execution_count": 5,
   "id": "09f1b6d0",
   "metadata": {},
   "outputs": [],
   "source": [
    "## Di drop dahulu data yang tidak digunakan"
   ]
  },
  {
   "cell_type": "code",
   "execution_count": 6,
   "id": "500c4b2d",
   "metadata": {},
   "outputs": [
    {
     "data": {
      "text/plain": [
       "Index(['Generator', 'Status', 'Result Status', 'Proxy Role', 'Keep SR2',\n",
       "       'Has SR2', 'Highlight', 'RESPRES', 'OIL_RATE', 'BO', 'VISC',\n",
       "       'THICKNEES', 'BHP', 'SLOPE', 'K', 'Execution Node', 'Dataset Path',\n",
       "       'Optimal', 'Comment'],\n",
       "      dtype='object')"
      ]
     },
     "execution_count": 6,
     "metadata": {},
     "output_type": "execute_result"
    }
   ],
   "source": [
    "df.columns"
   ]
  },
  {
   "cell_type": "code",
   "execution_count": 7,
   "id": "98a6efc7",
   "metadata": {},
   "outputs": [],
   "source": [
    "df.drop(columns = (['Generator', 'Status', 'Result Status', 'Proxy Role', 'Keep SR2',\n",
    "       'Has SR2', 'Highlight', 'BHP', 'Execution Node', 'Dataset Path',\n",
    "       'Optimal', 'Comment']), inplace = True)"
   ]
  },
  {
   "cell_type": "code",
   "execution_count": 8,
   "id": "6e8d6390",
   "metadata": {},
   "outputs": [
    {
     "data": {
      "text/html": [
       "<div>\n",
       "<style scoped>\n",
       "    .dataframe tbody tr th:only-of-type {\n",
       "        vertical-align: middle;\n",
       "    }\n",
       "\n",
       "    .dataframe tbody tr th {\n",
       "        vertical-align: top;\n",
       "    }\n",
       "\n",
       "    .dataframe thead th {\n",
       "        text-align: right;\n",
       "    }\n",
       "</style>\n",
       "<table border=\"1\" class=\"dataframe\">\n",
       "  <thead>\n",
       "    <tr style=\"text-align: right;\">\n",
       "      <th></th>\n",
       "      <th>RESPRES</th>\n",
       "      <th>OIL_RATE</th>\n",
       "      <th>BO</th>\n",
       "      <th>VISC</th>\n",
       "      <th>THICKNEES</th>\n",
       "      <th>SLOPE</th>\n",
       "      <th>K</th>\n",
       "    </tr>\n",
       "    <tr>\n",
       "      <th>ID</th>\n",
       "      <th></th>\n",
       "      <th></th>\n",
       "      <th></th>\n",
       "      <th></th>\n",
       "      <th></th>\n",
       "      <th></th>\n",
       "      <th></th>\n",
       "    </tr>\n",
       "  </thead>\n",
       "  <tbody>\n",
       "    <tr>\n",
       "      <th>0</th>\n",
       "      <td>6009</td>\n",
       "      <td>2500</td>\n",
       "      <td>1.210</td>\n",
       "      <td>0.92</td>\n",
       "      <td>23.0</td>\n",
       "      <td>226.552003</td>\n",
       "      <td>86.630000</td>\n",
       "    </tr>\n",
       "    <tr>\n",
       "      <th>1</th>\n",
       "      <td>5859</td>\n",
       "      <td>2350</td>\n",
       "      <td>1.192</td>\n",
       "      <td>0.81</td>\n",
       "      <td>24.6</td>\n",
       "      <td>196.544312</td>\n",
       "      <td>76.117480</td>\n",
       "    </tr>\n",
       "    <tr>\n",
       "      <th>2</th>\n",
       "      <td>6109</td>\n",
       "      <td>2450</td>\n",
       "      <td>1.120</td>\n",
       "      <td>0.96</td>\n",
       "      <td>24.2</td>\n",
       "      <td>212.310982</td>\n",
       "      <td>83.160744</td>\n",
       "    </tr>\n",
       "    <tr>\n",
       "      <th>3</th>\n",
       "      <td>5909</td>\n",
       "      <td>2550</td>\n",
       "      <td>1.138</td>\n",
       "      <td>0.75</td>\n",
       "      <td>23.8</td>\n",
       "      <td>207.352839</td>\n",
       "      <td>71.533193</td>\n",
       "    </tr>\n",
       "    <tr>\n",
       "      <th>4</th>\n",
       "      <td>6109</td>\n",
       "      <td>2500</td>\n",
       "      <td>1.210</td>\n",
       "      <td>0.93</td>\n",
       "      <td>25.0</td>\n",
       "      <td>213.979503</td>\n",
       "      <td>85.299600</td>\n",
       "    </tr>\n",
       "  </tbody>\n",
       "</table>\n",
       "</div>"
      ],
      "text/plain": [
       "    RESPRES  OIL_RATE     BO  VISC  THICKNEES       SLOPE          K\n",
       "ID                                                                  \n",
       "0      6009      2500  1.210  0.92       23.0  226.552003  86.630000\n",
       "1      5859      2350  1.192  0.81       24.6  196.544312  76.117480\n",
       "2      6109      2450  1.120  0.96       24.2  212.310982  83.160744\n",
       "3      5909      2550  1.138  0.75       23.8  207.352839  71.533193\n",
       "4      6109      2500  1.210  0.93       25.0  213.979503  85.299600"
      ]
     },
     "execution_count": 8,
     "metadata": {},
     "output_type": "execute_result"
    }
   ],
   "source": [
    "df.head()"
   ]
  },
  {
   "cell_type": "code",
   "execution_count": 9,
   "id": "6a8a3d62",
   "metadata": {},
   "outputs": [],
   "source": [
    "df.drop(columns = (['SLOPE']), inplace = True)"
   ]
  },
  {
   "cell_type": "code",
   "execution_count": 10,
   "id": "821176a8",
   "metadata": {},
   "outputs": [
    {
     "data": {
      "text/html": [
       "<div>\n",
       "<style scoped>\n",
       "    .dataframe tbody tr th:only-of-type {\n",
       "        vertical-align: middle;\n",
       "    }\n",
       "\n",
       "    .dataframe tbody tr th {\n",
       "        vertical-align: top;\n",
       "    }\n",
       "\n",
       "    .dataframe thead th {\n",
       "        text-align: right;\n",
       "    }\n",
       "</style>\n",
       "<table border=\"1\" class=\"dataframe\">\n",
       "  <thead>\n",
       "    <tr style=\"text-align: right;\">\n",
       "      <th></th>\n",
       "      <th>RESPRES</th>\n",
       "      <th>OIL_RATE</th>\n",
       "      <th>BO</th>\n",
       "      <th>VISC</th>\n",
       "      <th>THICKNEES</th>\n",
       "      <th>K</th>\n",
       "    </tr>\n",
       "    <tr>\n",
       "      <th>ID</th>\n",
       "      <th></th>\n",
       "      <th></th>\n",
       "      <th></th>\n",
       "      <th></th>\n",
       "      <th></th>\n",
       "      <th></th>\n",
       "    </tr>\n",
       "  </thead>\n",
       "  <tbody>\n",
       "    <tr>\n",
       "      <th>0</th>\n",
       "      <td>6009</td>\n",
       "      <td>2500</td>\n",
       "      <td>1.210</td>\n",
       "      <td>0.92</td>\n",
       "      <td>23.0</td>\n",
       "      <td>86.630000</td>\n",
       "    </tr>\n",
       "    <tr>\n",
       "      <th>1</th>\n",
       "      <td>5859</td>\n",
       "      <td>2350</td>\n",
       "      <td>1.192</td>\n",
       "      <td>0.81</td>\n",
       "      <td>24.6</td>\n",
       "      <td>76.117480</td>\n",
       "    </tr>\n",
       "    <tr>\n",
       "      <th>2</th>\n",
       "      <td>6109</td>\n",
       "      <td>2450</td>\n",
       "      <td>1.120</td>\n",
       "      <td>0.96</td>\n",
       "      <td>24.2</td>\n",
       "      <td>83.160744</td>\n",
       "    </tr>\n",
       "    <tr>\n",
       "      <th>3</th>\n",
       "      <td>5909</td>\n",
       "      <td>2550</td>\n",
       "      <td>1.138</td>\n",
       "      <td>0.75</td>\n",
       "      <td>23.8</td>\n",
       "      <td>71.533193</td>\n",
       "    </tr>\n",
       "    <tr>\n",
       "      <th>4</th>\n",
       "      <td>6109</td>\n",
       "      <td>2500</td>\n",
       "      <td>1.210</td>\n",
       "      <td>0.93</td>\n",
       "      <td>25.0</td>\n",
       "      <td>85.299600</td>\n",
       "    </tr>\n",
       "  </tbody>\n",
       "</table>\n",
       "</div>"
      ],
      "text/plain": [
       "    RESPRES  OIL_RATE     BO  VISC  THICKNEES          K\n",
       "ID                                                      \n",
       "0      6009      2500  1.210  0.92       23.0  86.630000\n",
       "1      5859      2350  1.192  0.81       24.6  76.117480\n",
       "2      6109      2450  1.120  0.96       24.2  83.160744\n",
       "3      5909      2550  1.138  0.75       23.8  71.533193\n",
       "4      6109      2500  1.210  0.93       25.0  85.299600"
      ]
     },
     "execution_count": 10,
     "metadata": {},
     "output_type": "execute_result"
    }
   ],
   "source": [
    "df.head()"
   ]
  },
  {
   "cell_type": "code",
   "execution_count": 11,
   "id": "77812620",
   "metadata": {},
   "outputs": [
    {
     "data": {
      "image/png": "[encoded data removed]",
      "text/plain": [
       "<Figure size 1080x576 with 1 Axes>"
      ]
     },
     "metadata": {
      "needs_background": "light"
     },
     "output_type": "display_data"
    }
   ],
   "source": [
    "plot_missing_value(df)"
   ]
  },
  {
   "cell_type": "code",
   "execution_count": 12,
   "id": "f8ee35c4",
   "metadata": {},
   "outputs": [
    {
     "data": {
      "text/plain": [
       "<matplotlib.axes._subplots.AxesSubplot at 0x1789794b548>"
      ]
     },
     "execution_count": 12,
     "metadata": {},
     "output_type": "execute_result"
    },
    {
     "data": {
      "image/png": "[encoded data removed]",
      "text/plain": [
       "<Figure size 936x936 with 2 Axes>"
      ]
     },
     "metadata": {
      "needs_background": "light"
     },
     "output_type": "display_data"
    }
   ],
   "source": [
    "plt.figure(figsize=(13, 13))\n",
    "sns.heatmap(df.corr(), cmap='YlGnBu', cbar='False', vmin=-1, vmax=1, annot=True, square=True)"
   ]
  },
  {
   "cell_type": "code",
   "execution_count": 13,
   "id": "da4bc7c0",
   "metadata": {},
   "outputs": [
    {
     "data": {
      "text/html": [
       "<div>\n",
       "<style scoped>\n",
       "    .dataframe tbody tr th:only-of-type {\n",
       "        vertical-align: middle;\n",
       "    }\n",
       "\n",
       "    .dataframe tbody tr th {\n",
       "        vertical-align: top;\n",
       "    }\n",
       "\n",
       "    .dataframe thead th {\n",
       "        text-align: right;\n",
       "    }\n",
       "</style>\n",
       "<table border=\"1\" class=\"dataframe\">\n",
       "  <thead>\n",
       "    <tr style=\"text-align: right;\">\n",
       "      <th></th>\n",
       "      <th>RESPRES</th>\n",
       "      <th>OIL_RATE</th>\n",
       "      <th>BO</th>\n",
       "      <th>VISC</th>\n",
       "      <th>THICKNEES</th>\n",
       "      <th>K</th>\n",
       "    </tr>\n",
       "    <tr>\n",
       "      <th>ID</th>\n",
       "      <th></th>\n",
       "      <th></th>\n",
       "      <th></th>\n",
       "      <th></th>\n",
       "      <th></th>\n",
       "      <th></th>\n",
       "    </tr>\n",
       "  </thead>\n",
       "  <tbody>\n",
       "    <tr>\n",
       "      <th>0</th>\n",
       "      <td>6009</td>\n",
       "      <td>2500</td>\n",
       "      <td>1.210</td>\n",
       "      <td>0.92</td>\n",
       "      <td>23.0</td>\n",
       "      <td>86.630000</td>\n",
       "    </tr>\n",
       "    <tr>\n",
       "      <th>1</th>\n",
       "      <td>5859</td>\n",
       "      <td>2350</td>\n",
       "      <td>1.192</td>\n",
       "      <td>0.81</td>\n",
       "      <td>24.6</td>\n",
       "      <td>76.117480</td>\n",
       "    </tr>\n",
       "    <tr>\n",
       "      <th>2</th>\n",
       "      <td>6109</td>\n",
       "      <td>2450</td>\n",
       "      <td>1.120</td>\n",
       "      <td>0.96</td>\n",
       "      <td>24.2</td>\n",
       "      <td>83.160744</td>\n",
       "    </tr>\n",
       "    <tr>\n",
       "      <th>3</th>\n",
       "      <td>5909</td>\n",
       "      <td>2550</td>\n",
       "      <td>1.138</td>\n",
       "      <td>0.75</td>\n",
       "      <td>23.8</td>\n",
       "      <td>71.533193</td>\n",
       "    </tr>\n",
       "    <tr>\n",
       "      <th>4</th>\n",
       "      <td>6109</td>\n",
       "      <td>2500</td>\n",
       "      <td>1.210</td>\n",
       "      <td>0.93</td>\n",
       "      <td>25.0</td>\n",
       "      <td>85.299600</td>\n",
       "    </tr>\n",
       "  </tbody>\n",
       "</table>\n",
       "</div>"
      ],
      "text/plain": [
       "    RESPRES  OIL_RATE     BO  VISC  THICKNEES          K\n",
       "ID                                                      \n",
       "0      6009      2500  1.210  0.92       23.0  86.630000\n",
       "1      5859      2350  1.192  0.81       24.6  76.117480\n",
       "2      6109      2450  1.120  0.96       24.2  83.160744\n",
       "3      5909      2550  1.138  0.75       23.8  71.533193\n",
       "4      6109      2500  1.210  0.93       25.0  85.299600"
      ]
     },
     "execution_count": 13,
     "metadata": {},
     "output_type": "execute_result"
    }
   ],
   "source": [
    "df.head()"
   ]
  },
  {
   "cell_type": "code",
   "execution_count": 14,
   "id": "2be7a17f",
   "metadata": {},
   "outputs": [
    {
     "data": {
      "text/plain": [
       "array([[<matplotlib.axes._subplots.AxesSubplot object at 0x0000017897B9EDC8>,\n",
       "        <matplotlib.axes._subplots.AxesSubplot object at 0x0000017897B25108>],\n",
       "       [<matplotlib.axes._subplots.AxesSubplot object at 0x00000178978776C8>,\n",
       "        <matplotlib.axes._subplots.AxesSubplot object at 0x0000017897B7C4C8>],\n",
       "       [<matplotlib.axes._subplots.AxesSubplot object at 0x000001789789C548>,\n",
       "        <matplotlib.axes._subplots.AxesSubplot object at 0x00000178979CD548>]],\n",
       "      dtype=object)"
      ]
     },
     "execution_count": 14,
     "metadata": {},
     "output_type": "execute_result"
    },
    {
     "data": {
      "image/png": "[encoded data removed]",
      "text/plain": [
       "<Figure size 1440x1440 with 6 Axes>"
      ]
     },
     "metadata": {
      "needs_background": "light"
     },
     "output_type": "display_data"
    }
   ],
   "source": [
    "df.hist(figsize=(20, 20))"
   ]
  },
  {
   "cell_type": "code",
   "execution_count": 15,
   "id": "e85d3dc8",
   "metadata": {},
   "outputs": [],
   "source": [
    "# Data Splitting"
   ]
  },
  {
   "cell_type": "code",
   "execution_count": 16,
   "id": "8bf37381",
   "metadata": {},
   "outputs": [
    {
     "data": {
      "text/plain": [
       "((400, 5), (101, 5), (400,), (101,))"
      ]
     },
     "execution_count": 16,
     "metadata": {},
     "output_type": "execute_result"
    }
   ],
   "source": [
    "X = df.drop(columns=\"K\")\n",
    "y = df.K\n",
    "\n",
    "X_train, X_test, y_train, y_test = train_test_split(X, y, test_size=0.2, random_state=42)\n",
    "X_train.shape, X_test.shape, y_train.shape, y_test.shape"
   ]
  },
  {
   "cell_type": "code",
   "execution_count": 17,
   "id": "dd4ee025",
   "metadata": {},
   "outputs": [],
   "source": [
    "# Training"
   ]
  },
  {
   "cell_type": "code",
   "execution_count": 18,
   "id": "c29d8902",
   "metadata": {},
   "outputs": [],
   "source": [
    "from xgboost import XGBRegressor\n",
    "from sklearn.model_selection import RandomizedSearchCV\n",
    "from jcopml.tuning import random_search_params as rsp"
   ]
  },
  {
   "cell_type": "code",
   "execution_count": 19,
   "id": "66e02340",
   "metadata": {},
   "outputs": [
    {
     "data": {
      "text/plain": [
       "Index(['RESPRES', 'OIL_RATE', 'BO', 'VISC', 'THICKNEES'], dtype='object')"
      ]
     },
     "execution_count": 19,
     "metadata": {},
     "output_type": "execute_result"
    }
   ],
   "source": [
    "X_train.columns"
   ]
  },
  {
   "cell_type": "code",
   "execution_count": 20,
   "id": "299bc712",
   "metadata": {},
   "outputs": [
    {
     "data": {
      "text/plain": [
       "{'prep__numeric__poly__degree': Integer(low=1, high=3),\n",
       " 'prep__numeric__poly__interaction_only': [True, False],\n",
       " 'algo__max_depth': Integer(low=1, high=10),\n",
       " 'algo__learning_rate': Real(low=-2, high=0, prior='log-uniform'),\n",
       " 'algo__n_estimators': Integer(low=100, high=200),\n",
       " 'algo__subsample': Real(low=0.3, high=0.8, prior='uniform'),\n",
       " 'algo__gamma': Integer(low=1, high=10),\n",
       " 'algo__colsample_bytree': Real(low=0.1, high=1, prior='uniform'),\n",
       " 'algo__reg_alpha': Real(low=-3, high=1, prior='log-uniform'),\n",
       " 'algo__reg_lambda': Real(low=-3, high=1, prior='log-uniform')}"
      ]
     },
     "execution_count": 20,
     "metadata": {},
     "output_type": "execute_result"
    }
   ],
   "source": [
    "rsp.xgb_poly_params"
   ]
  },
  {
   "cell_type": "code",
   "execution_count": 21,
   "id": "46f39a9e",
   "metadata": {},
   "outputs": [],
   "source": [
    "#R-Square"
   ]
  },
  {
   "cell_type": "code",
   "execution_count": 22,
   "id": "43d25f06",
   "metadata": {},
   "outputs": [],
   "source": [
    "#Polynomial"
   ]
  },
  {
   "cell_type": "code",
   "execution_count": 23,
   "id": "3d4be29a",
   "metadata": {},
   "outputs": [
    {
     "name": "stdout",
     "output_type": "stream",
     "text": [
      "Fitting 3 folds for each of 50 candidates, totalling 150 fits\n"
     ]
    },
    {
     "name": "stderr",
     "output_type": "stream",
     "text": [
      "[Parallel(n_jobs=-1)]: Using backend LokyBackend with 8 concurrent workers.\n",
      "[Parallel(n_jobs=-1)]: Done  34 tasks      | elapsed:    2.9s\n"
     ]
    },
    {
     "name": "stdout",
     "output_type": "stream",
     "text": [
      "{'algo__colsample_bytree': 0.7273141668957412, 'algo__gamma': 6, 'algo__learning_rate': 0.05235791002299295, 'algo__max_depth': 10, 'algo__n_estimators': 125, 'algo__reg_alpha': 1.739616742284701, 'algo__reg_lambda': 2.9396070097391545, 'algo__subsample': 0.7566202762782357, 'prep__numeric__poly__degree': 2, 'prep__numeric__poly__interaction_only': True}\n",
      "0.8977312188303401 0.7244072201027979 0.9220219689235147\n"
     ]
    },
    {
     "name": "stderr",
     "output_type": "stream",
     "text": [
      "[Parallel(n_jobs=-1)]: Done 135 out of 150 | elapsed:    3.8s remaining:    0.3s\n",
      "[Parallel(n_jobs=-1)]: Done 150 out of 150 | elapsed:    3.9s finished\n"
     ]
    }
   ],
   "source": [
    "preprocessor = ColumnTransformer([\n",
    "    ('numeric', num_pipe(poly=2), ['RESPRES', 'OIL_RATE', 'BO', 'VISC', 'THICKNEES']),\n",
    "])\n",
    "\n",
    "\n",
    "pipeline = Pipeline([\n",
    "    ('prep', preprocessor),\n",
    "    ('algo', XGBRegressor(n_jobs=-1, random_state=42))\n",
    "])\n",
    "\n",
    "\n",
    "model = RandomizedSearchCV(pipeline, rsp.xgb_poly_params, cv=3, n_iter=50, n_jobs=-1, verbose=1, random_state=42)\n",
    "model.fit(X_train, y_train)\n",
    "\n",
    "print(model.best_params_)\n",
    "print(model.score(X_train, y_train), model.best_score_, model.score(X_test, y_test))"
   ]
  },
  {
   "cell_type": "code",
   "execution_count": 24,
   "id": "daf557a8",
   "metadata": {},
   "outputs": [
    {
     "data": {
      "text/plain": [
       "(0.8977312188303401, 0.9220219689235147)"
      ]
     },
     "execution_count": 24,
     "metadata": {},
     "output_type": "execute_result"
    }
   ],
   "source": [
    "model.score(X_train, y_train), model.score(X_test, y_test)"
   ]
  },
  {
   "cell_type": "code",
   "execution_count": 25,
   "id": "d56eb662",
   "metadata": {
    "scrolled": true
   },
   "outputs": [],
   "source": [
    "from jcopml.plot import plot_actual_vs_prediction, plot_residual"
   ]
  },
  {
   "cell_type": "code",
   "execution_count": 26,
   "id": "8d4ea19d",
   "metadata": {
    "scrolled": true
   },
   "outputs": [
    {
     "data": {
      "image/png": "[encoded data removed]",
      "text/plain": [
       "<Figure size 792x360 with 2 Axes>"
      ]
     },
     "metadata": {
      "needs_background": "light"
     },
     "output_type": "display_data"
    }
   ],
   "source": [
    "plot_actual_vs_prediction(X_train, y_train, X_test, y_test, model)"
   ]
  },
  {
   "cell_type": "code",
   "execution_count": 27,
   "id": "4110f782",
   "metadata": {},
   "outputs": [
    {
     "data": {
      "image/png": "[encoded data removed]",
      "text/plain": [
       "<Figure size 1080x360 with 2 Axes>"
      ]
     },
     "metadata": {
      "needs_background": "light"
     },
     "output_type": "display_data"
    }
   ],
   "source": [
    "plot_residual(X_train, y_train, X_test, y_test, model)"
   ]
  },
  {
   "cell_type": "code",
   "execution_count": 28,
   "id": "b11d643d",
   "metadata": {},
   "outputs": [],
   "source": [
    "### Kesimpulan: polynomial memperbaiki model menjadi lebih baik"
   ]
  },
  {
   "cell_type": "code",
   "execution_count": 29,
   "id": "cfce0fc0",
   "metadata": {},
   "outputs": [],
   "source": [
    "from jcopml.feature_importance import  mean_loss_decrease\n",
    "from jcopml.feature_importance import mean_score_decrease"
   ]
  },
  {
   "cell_type": "code",
   "execution_count": 30,
   "id": "ddfa8b8b",
   "metadata": {},
   "outputs": [],
   "source": [
    "# Prediction"
   ]
  },
  {
   "cell_type": "code",
   "execution_count": 31,
   "id": "4956ddac",
   "metadata": {},
   "outputs": [
    {
     "data": {
      "text/html": [
       "<div>\n",
       "<style scoped>\n",
       "    .dataframe tbody tr th:only-of-type {\n",
       "        vertical-align: middle;\n",
       "    }\n",
       "\n",
       "    .dataframe tbody tr th {\n",
       "        vertical-align: top;\n",
       "    }\n",
       "\n",
       "    .dataframe thead th {\n",
       "        text-align: right;\n",
       "    }\n",
       "</style>\n",
       "<table border=\"1\" class=\"dataframe\">\n",
       "  <thead>\n",
       "    <tr style=\"text-align: right;\">\n",
       "      <th></th>\n",
       "      <th>RESPRES</th>\n",
       "      <th>OIL_RATE</th>\n",
       "      <th>BO</th>\n",
       "      <th>VISC</th>\n",
       "      <th>THICKNEES</th>\n",
       "    </tr>\n",
       "    <tr>\n",
       "      <th>ID</th>\n",
       "      <th></th>\n",
       "      <th></th>\n",
       "      <th></th>\n",
       "      <th></th>\n",
       "      <th></th>\n",
       "    </tr>\n",
       "  </thead>\n",
       "  <tbody>\n",
       "    <tr>\n",
       "      <th>386</th>\n",
       "      <td>6009</td>\n",
       "      <td>2350</td>\n",
       "      <td>1.1704</td>\n",
       "      <td>0.9615</td>\n",
       "      <td>24.76</td>\n",
       "    </tr>\n",
       "  </tbody>\n",
       "</table>\n",
       "</div>"
      ],
      "text/plain": [
       "     RESPRES  OIL_RATE      BO    VISC  THICKNEES\n",
       "ID                                               \n",
       "386     6009      2350  1.1704  0.9615      24.76"
      ]
     },
     "execution_count": 31,
     "metadata": {},
     "output_type": "execute_result"
    }
   ],
   "source": [
    "X_train.iloc[:1]"
   ]
  },
  {
   "cell_type": "code",
   "execution_count": 32,
   "id": "6d555c46",
   "metadata": {},
   "outputs": [
    {
     "data": {
      "text/html": [
       "<div>\n",
       "<style scoped>\n",
       "    .dataframe tbody tr th:only-of-type {\n",
       "        vertical-align: middle;\n",
       "    }\n",
       "\n",
       "    .dataframe tbody tr th {\n",
       "        vertical-align: top;\n",
       "    }\n",
       "\n",
       "    .dataframe thead th {\n",
       "        text-align: right;\n",
       "    }\n",
       "</style>\n",
       "<table border=\"1\" class=\"dataframe\">\n",
       "  <thead>\n",
       "    <tr style=\"text-align: right;\">\n",
       "      <th></th>\n",
       "      <th>RESPRES</th>\n",
       "      <th>OIL_RATE</th>\n",
       "      <th>BO</th>\n",
       "      <th>VISC</th>\n",
       "      <th>THICKNEES</th>\n",
       "    </tr>\n",
       "  </thead>\n",
       "  <tbody>\n",
       "    <tr>\n",
       "      <th>0</th>\n",
       "      <td>6009</td>\n",
       "      <td>2500</td>\n",
       "      <td>1.21</td>\n",
       "      <td>0.92</td>\n",
       "      <td>23</td>\n",
       "    </tr>\n",
       "  </tbody>\n",
       "</table>\n",
       "</div>"
      ],
      "text/plain": [
       "   RESPRES  OIL_RATE    BO  VISC  THICKNEES\n",
       "0     6009      2500  1.21  0.92         23"
      ]
     },
     "execution_count": 32,
     "metadata": {},
     "output_type": "execute_result"
    }
   ],
   "source": [
    "X_pred = pd.DataFrame([[6009, 2500, 1.21, 0.92, 23]], columns=X_train.columns)\n",
    "X_pred"
   ]
  },
  {
   "cell_type": "code",
   "execution_count": 33,
   "id": "457d68d0",
   "metadata": {},
   "outputs": [
    {
     "data": {
      "text/plain": [
       "array([87.085365], dtype=float32)"
      ]
     },
     "execution_count": 33,
     "metadata": {},
     "output_type": "execute_result"
    }
   ],
   "source": [
    "model.predict(X_pred)"
   ]
  },
  {
   "cell_type": "code",
   "execution_count": 34,
   "id": "65ed9d87",
   "metadata": {},
   "outputs": [],
   "source": [
    "## Mean Loss Decrease"
   ]
  },
  {
   "cell_type": "code",
   "execution_count": 35,
   "id": "84c083a9",
   "metadata": {},
   "outputs": [
    {
     "data": {
      "image/png": "[encoded data removed]",
      "text/plain": [
       "<Figure size 1080x360 with 1 Axes>"
      ]
     },
     "metadata": {
      "needs_background": "light"
     },
     "output_type": "display_data"
    }
   ],
   "source": [
    "df_imp = mean_loss_decrease(X_train, model, plot=True, topk=10)"
   ]
  },
  {
   "cell_type": "code",
   "execution_count": 36,
   "id": "7373fde8",
   "metadata": {},
   "outputs": [
    {
     "data": {
      "image/png": "[encoded data removed]",
      "text/plain": [
       "<Figure size 1080x360 with 1 Axes>"
      ]
     },
     "metadata": {
      "needs_background": "light"
     },
     "output_type": "display_data"
    }
   ],
   "source": [
    "df_imp = mean_score_decrease(X_train, y_train, model, plot=True, topk=10)"
   ]
  },
  {
   "cell_type": "code",
   "execution_count": 37,
   "id": "10800d94",
   "metadata": {},
   "outputs": [],
   "source": [
    "#MEAN ABSOLUTE ERROR (MAE)"
   ]
  },
  {
   "cell_type": "code",
   "execution_count": 38,
   "id": "a74728a4",
   "metadata": {},
   "outputs": [
    {
     "name": "stdout",
     "output_type": "stream",
     "text": [
      "Fitting 3 folds for each of 50 candidates, totalling 150 fits\n"
     ]
    },
    {
     "name": "stderr",
     "output_type": "stream",
     "text": [
      "[Parallel(n_jobs=-1)]: Using backend LokyBackend with 8 concurrent workers.\n",
      "[Parallel(n_jobs=-1)]: Done  56 tasks      | elapsed:    0.4s\n"
     ]
    },
    {
     "name": "stdout",
     "output_type": "stream",
     "text": [
      "{'algo__colsample_bytree': 0.9763799669573133, 'algo__gamma': 3, 'algo__learning_rate': 0.05820013372709852, 'algo__max_depth': 4, 'algo__n_estimators': 163, 'algo__reg_alpha': 0.07362945281639222, 'algo__reg_lambda': 2.752717392942944, 'algo__subsample': 0.6401537692938899}\n",
      "-0.3844622330201173 -0.6932981242812685 -0.5269644068902767\n"
     ]
    },
    {
     "name": "stderr",
     "output_type": "stream",
     "text": [
      "[Parallel(n_jobs=-1)]: Done 150 out of 150 | elapsed:    0.7s finished\n"
     ]
    }
   ],
   "source": [
    "preprocessor = ColumnTransformer([\n",
    "    ('numeric', num_pipe(), ['RESPRES', 'OIL_RATE', 'BO', 'VISC', 'THICKNEES']),\n",
    "])\n",
    "\n",
    "\n",
    "pipeline = Pipeline([\n",
    "    ('prep', preprocessor),\n",
    "    ('algo', XGBRegressor(n_jobs=-1, random_state=42))\n",
    "])\n",
    "\n",
    "\n",
    "model = RandomizedSearchCV(pipeline, rsp.xgb_params, cv=3, scoring= 'neg_mean_absolute_error', n_iter=50, n_jobs=-1, verbose=1, random_state=42)\n",
    "model.fit(X_train, y_train)\n",
    "\n",
    "print(model.best_params_)\n",
    "print(model.score(X_train, y_train), model.best_score_, model.score(X_test, y_test))"
   ]
  },
  {
   "cell_type": "code",
   "execution_count": 39,
   "id": "16abb33d",
   "metadata": {},
   "outputs": [],
   "source": [
    "#MEAN SQRT ERROR (MSE)"
   ]
  },
  {
   "cell_type": "code",
   "execution_count": 40,
   "id": "8b08aa92",
   "metadata": {},
   "outputs": [
    {
     "name": "stdout",
     "output_type": "stream",
     "text": [
      "Fitting 3 folds for each of 50 candidates, totalling 150 fits\n"
     ]
    },
    {
     "name": "stderr",
     "output_type": "stream",
     "text": [
      "[Parallel(n_jobs=-1)]: Using backend LokyBackend with 8 concurrent workers.\n",
      "[Parallel(n_jobs=-1)]: Done  56 tasks      | elapsed:    0.4s\n"
     ]
    },
    {
     "name": "stdout",
     "output_type": "stream",
     "text": [
      "{'algo__colsample_bytree': 0.6024641082463879, 'algo__gamma': 7, 'algo__learning_rate': 0.04764963542138517, 'algo__max_depth': 3, 'algo__n_estimators': 118, 'algo__reg_alpha': 0.8013508750140631, 'algo__reg_lambda': 3.8765111709116367, 'algo__subsample': 0.7435432121325587}\n",
      "-2.589981194180276 -4.613116032174271 -1.224374390033292\n"
     ]
    },
    {
     "name": "stderr",
     "output_type": "stream",
     "text": [
      "[Parallel(n_jobs=-1)]: Done 150 out of 150 | elapsed:    0.7s finished\n"
     ]
    }
   ],
   "source": [
    "preprocessor = ColumnTransformer([\n",
    "    ('numeric', num_pipe(), ['RESPRES', 'OIL_RATE', 'BO', 'VISC', 'THICKNEES']),\n",
    "])\n",
    "\n",
    "\n",
    "pipeline = Pipeline([\n",
    "    ('prep', preprocessor),\n",
    "    ('algo', XGBRegressor(n_jobs=-1, random_state=42))\n",
    "])\n",
    "\n",
    "\n",
    "model = RandomizedSearchCV(pipeline, rsp.xgb_params, cv=3, scoring= 'neg_mean_squared_error', n_iter=50, n_jobs=-1, verbose=1, random_state=42)\n",
    "model.fit(X_train, y_train)\n",
    "\n",
    "print(model.best_params_)\n",
    "print(model.score(X_train, y_train), model.best_score_, model.score(X_test, y_test))"
   ]
  },
  {
   "cell_type": "code",
   "execution_count": 41,
   "id": "5ffd8f9c",
   "metadata": {},
   "outputs": [
    {
     "name": "stdout",
     "output_type": "stream",
     "text": [
      "Model is pickled as model/Predict_Effective-Oil-Permeability_Ko\n"
     ]
    }
   ],
   "source": [
    "save_model(model.best_estimator_, \"Predict_Effective-Oil-Permeability_Ko\")"
   ]
  },
  {
   "cell_type": "code",
   "execution_count": null,
   "id": "64e0377b",
   "metadata": {},
   "outputs": [],
   "source": []
  }
 ],
 "metadata": {
  "kernelspec": {
   "display_name": "Python [conda env:jcopml]",
   "language": "python",
   "name": "conda-env-jcopml-py"
  },
  "language_info": {
   "codemirror_mode": {
    "name": "ipython",
    "version": 3
   },
   "file_extension": ".py",
   "mimetype": "text/x-python",
   "name": "python",
   "nbconvert_exporter": "python",
   "pygments_lexer": "ipython3",
   "version": "3.7.6"
  }
 },
 "nbformat": 4,
 "nbformat_minor": 5
}
